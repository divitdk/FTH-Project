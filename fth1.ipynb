{
  "cells": [
    {
      "cell_type": "markdown",
      "metadata": {
        "id": "u2yyT_vHmx9B"
      },
      "source": [
        "#Operations for integrations and differentions"
      ]
    },
    {
      "cell_type": "code",
      "execution_count": 98,
      "metadata": {
        "id": "watTKLl9Oc-s"
      },
      "outputs": [],
      "source": [
        "from sympy import *\n",
        "import numpy as np\n"
      ]
    },
    {
      "cell_type": "code",
      "execution_count": 99,
      "metadata": {
        "id": "IPWK0LvsPJ6w"
      },
      "outputs": [],
      "source": [
        "x = Symbol('x')\n",
        "y = Symbol('y')\n",
        "func_diff = x**3 + y**3"
      ]
    },
    {
      "cell_type": "code",
      "execution_count": 100,
      "metadata": {
        "id": "hPlL7A6jTa3N"
      },
      "outputs": [],
      "source": [
        "func1 = diff(func_diff, x)\n",
        "func2 = diff(func1,x)"
      ]
    },
    {
      "cell_type": "code",
      "execution_count": 101,
      "metadata": {
        "colab": {
          "base_uri": "https://localhost:8080/",
          "height": 39
        },
        "id": "mrUIyyZ_T7Yt",
        "outputId": "b331bb66-f17f-4b41-9321-29521b2abf6c"
      },
      "outputs": [
        {
          "output_type": "execute_result",
          "data": {
            "text/plain": [
              "6*x"
            ],
            "text/latex": "$\\displaystyle 6 x$"
          },
          "metadata": {},
          "execution_count": 101
        }
      ],
      "source": [
        "simplify(expand(func2))"
      ]
    },
    {
      "cell_type": "code",
      "execution_count": 102,
      "metadata": {
        "colab": {
          "base_uri": "https://localhost:8080/",
          "height": 39
        },
        "id": "rpxCeFuyPi4H",
        "outputId": "d627c14b-7596-4e35-e006-fe4ce68afa45"
      },
      "outputs": [
        {
          "output_type": "execute_result",
          "data": {
            "text/plain": [
              "3*x**2"
            ],
            "text/latex": "$\\displaystyle 3 x^{2}$"
          },
          "metadata": {},
          "execution_count": 102
        }
      ],
      "source": [
        "integrate(func2,x)"
      ]
    },
    {
      "cell_type": "code",
      "execution_count": 103,
      "metadata": {
        "id": "xxBhgE2dWBoq"
      },
      "outputs": [],
      "source": [
        "a= Symbol('a')\n",
        "func_diff = a"
      ]
    },
    {
      "cell_type": "code",
      "execution_count": 104,
      "metadata": {
        "colab": {
          "base_uri": "https://localhost:8080/",
          "height": 39
        },
        "id": "0kAHJIluWPn-",
        "outputId": "82da75a8-72b9-4e1e-8e25-2a4da9087acd"
      },
      "outputs": [
        {
          "output_type": "execute_result",
          "data": {
            "text/plain": [
              "a*x"
            ],
            "text/latex": "$\\displaystyle a x$"
          },
          "metadata": {},
          "execution_count": 104
        }
      ],
      "source": [
        "integrate(func_diff,x)"
      ]
    },
    {
      "cell_type": "markdown",
      "metadata": {
        "id": "vrp2OKmrzx2y"
      },
      "source": [
        "#Capacitance due to Parallel plates\n",
        "WKT, Laplace's equation is ∇²V=0\n",
        "\n",
        "We'll expand ∇²V in rectangular form & since Potential in this case varies with x, we obtain:\n",
        "\n",
        "(∂²V)/(∂x²) = 0\n",
        "\n",
        "Integrating both sides yields,\n",
        "\n",
        "(∂V)/(∂x) = 0\n",
        "\n",
        "Integrating both sides again yields,\n",
        "\n",
        "V = A*x + B\n"
      ]
    },
    {
      "cell_type": "code",
      "execution_count": 105,
      "metadata": {
        "id": "lwRQu7tkWWQe"
      },
      "outputs": [],
      "source": [
        "A, B, V, d, V0, dS, S, C, y, z, pot = symbols('A, B, V, d, V0, dS, S, C, y, z, pot') #defining constants\n",
        "\n",
        "V = A*x + B #A,B are integration constants"
      ]
    },
    {
      "cell_type": "markdown",
      "metadata": {
        "id": "BzspMj1cfrhW"
      },
      "source": [
        "#Calculating V₀ by applying Boundry Conditions.\n",
        "The 1st capacitor is placed at the origin and the 2nd is determined by the user.\n",
        "\n",
        "At,\n",
        "\n",
        "x1= 0, V1= 0.\n",
        "\n",
        "x2= 1.5, V2= 450."
      ]
    },
    {
      "cell_type": "code",
      "execution_count": 106,
      "metadata": {
        "id": "B8ZUHAtLbsjG"
      },
      "outputs": [],
      "source": [
        "x_val1 = 0\n",
        "x_val2 = 1.5\n",
        "v1 = 0\n",
        "v2 = 450"
      ]
    },
    {
      "cell_type": "code",
      "execution_count": 107,
      "metadata": {
        "colab": {
          "base_uri": "https://localhost:8080/"
        },
        "id": "LDRWUFDGgJ_b",
        "outputId": "22f0737e-9cc9-4cc6-cad2-83766e637bd9"
      },
      "outputs": [
        {
          "output_type": "stream",
          "name": "stdout",
          "text": [
            "300.000000000000 0.0\n"
          ]
        }
      ],
      "source": [
        "eq1 = Eq(x_val1*z + y - v1, 0)       #0 = 0A + B\n",
        "eq2 = Eq(x_val2*z + y - v2, 0)       #450 = 1.5A + B\n",
        "#solving both equations for A & B\n",
        "val = solve((eq1,eq2), (z, y))\n",
        "A_val = val[z]\n",
        "B_val = val[y]\n",
        "print(val[z], val[y])"
      ]
    },
    {
      "cell_type": "code",
      "execution_count": 108,
      "metadata": {
        "colab": {
          "base_uri": "https://localhost:8080/"
        },
        "id": "HHwI8ho6jGbp",
        "outputId": "526a8e8f-cbd8-422b-9b2b-1c2b1a454ba5"
      },
      "outputs": [
        {
          "output_type": "stream",
          "name": "stdout",
          "text": [
            "V = 900.000000000000 V\n"
          ]
        }
      ],
      "source": [
        "x = symbols('x')\n",
        "x1 = 3                     # x is the distance at which capacitance is calculated. In this eg: 3\n",
        "pot = A_val*x + B_val\n",
        "potential = A_val*x1 + B_val     # V = Ax + B\n",
        "print(\"V =\", potential, \"V\")"
      ]
    },
    {
      "cell_type": "markdown",
      "metadata": {
        "id": "tpXSBRNkmFxH"
      },
      "source": [
        "#Calculating Electric field Intensity, E\n",
        "E = -∇*V\n",
        "\n",
        "E = -(∂V)/(∂x) aₓ\n",
        "\n",
        "//aₓ is direction"
      ]
    },
    {
      "cell_type": "code",
      "source": [
        "E = diff((-1*pot), x)\n",
        "print(\"E =\", E, \"V/m\")"
      ],
      "metadata": {
        "colab": {
          "base_uri": "https://localhost:8080/"
        },
        "id": "7WE2AxN3PtuJ",
        "outputId": "ae9ef1d0-e675-4a14-a63b-6f502cd6a28c"
      },
      "execution_count": 109,
      "outputs": [
        {
          "output_type": "stream",
          "name": "stdout",
          "text": [
            "E = -300.000000000000 V/m\n"
          ]
        }
      ]
    },
    {
      "cell_type": "markdown",
      "metadata": {
        "id": "U9O3qa6RnRLu"
      },
      "source": [
        "#Calculating Electric Displacement, D\n",
        "D = -(∈*E)\n",
        "\n",
        "D = Dₙ = -( ∈ * (-(∂V)/(∂x)) )\n",
        "\n",
        "We know that Dₙ = ⍴ₛ \n",
        "\n",
        "Therefore, ⍴ₛ = -( ∈ * (-(∂V)/(∂x)) )"
      ]
    },
    {
      "cell_type": "code",
      "execution_count": 110,
      "metadata": {
        "colab": {
          "base_uri": "https://localhost:8080/"
        },
        "id": "ferxQBr3ms19",
        "outputId": "1279c30b-2a16-40bd-c4f0-7cb6da45c17a"
      },
      "outputs": [
        {
          "output_type": "stream",
          "name": "stdout",
          "text": [
            "-2.65500000000000e-9\n"
          ]
        }
      ],
      "source": [
        "epsi = 8.85 * 10**-12\n",
        "D = epsi*E\n",
        "print(D)\n",
        "Dn = D\n",
        "rhoS = Dn"
      ]
    },
    {
      "cell_type": "markdown",
      "metadata": {
        "id": "m2PHtKFooy5_"
      },
      "source": [
        "#Calculating Charge, Q\n",
        "\n",
        "Q = Surface integral of (⍴ₛ*dS)"
      ]
    },
    {
      "cell_type": "code",
      "execution_count": 111,
      "metadata": {
        "colab": {
          "base_uri": "https://localhost:8080/"
        },
        "id": "ftDr5xYvpQQk",
        "outputId": "634640c5-bc45-41f8-9781-dfbca10022a1"
      },
      "outputs": [
        {
          "output_type": "stream",
          "name": "stdout",
          "text": [
            "-2.655e-9*S\n"
          ]
        }
      ],
      "source": [
        "Q = integrate(rhoS,S)\n",
        "print('Charge=', C, 'C')"
      ]
    },
    {
      "cell_type": "markdown",
      "metadata": {
        "id": "clmKfEYzrTH5"
      },
      "source": [
        "# Calculating Capacitance, C\n",
        "\n",
        "C = |Q| / V"
      ]
    },
    {
      "cell_type": "code",
      "execution_count": 112,
      "metadata": {
        "colab": {
          "base_uri": "https://localhost:8080/"
        },
        "id": "WU_74mZoqXfa",
        "outputId": "f78dae52-c425-4185-fae6-808883674d99"
      },
      "outputs": [
        {
          "output_type": "stream",
          "name": "stdout",
          "text": [
            "Capacitance= -2.95e-12*S C\n"
          ]
        }
      ],
      "source": [
        "C = Q/potential\n",
        "print('Capacitance=', C, 'F')"
      ]
    }
  ],
  "metadata": {
    "colab": {
      "collapsed_sections": [],
      "name": "fth.ipynb",
      "provenance": []
    },
    "kernelspec": {
      "display_name": "Python 3",
      "name": "python3"
    },
    "language_info": {
      "name": "python"
    }
  },
  "nbformat": 4,
  "nbformat_minor": 0
}